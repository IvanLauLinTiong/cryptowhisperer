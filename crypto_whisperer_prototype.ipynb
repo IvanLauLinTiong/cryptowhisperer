{
 "cells": [
  {
   "cell_type": "code",
   "execution_count": null,
   "id": "0ce3665b",
   "metadata": {},
   "outputs": [],
   "source": [
    "# !jupyter nbextension enable --py widgetsnbextension"
   ]
  },
  {
   "cell_type": "markdown",
   "id": "cdf21a43",
   "metadata": {},
   "source": [
    "# Import Libraries and Modzy SDK"
   ]
  },
  {
   "cell_type": "code",
   "execution_count": 2,
   "id": "0c412567",
   "metadata": {},
   "outputs": [],
   "source": [
    "from modzy import ApiClient\n",
    "from bs4 import BeautifulSoup\n",
    "import requests\n",
    "import json\n",
    "import IPython\n",
    "from api_key import API_KEY"
   ]
  },
  {
   "cell_type": "markdown",
   "id": "10d36be4",
   "metadata": {},
   "source": [
    "# Web Scraping CoinDesk webpage "
   ]
  },
  {
   "cell_type": "code",
   "execution_count": 3,
   "id": "e6061158",
   "metadata": {
    "scrolled": true
   },
   "outputs": [
    {
     "data": {
      "text/plain": [
       "200"
      ]
     },
     "execution_count": 3,
     "metadata": {},
     "output_type": "execute_result"
    }
   ],
   "source": [
    "# web scraping article from CoinDesk webpage\n",
    "url = \"https://www.coindesk.com/markets/2021/11/30/market-wrap-bitcoin-underperforms-as-ether-and-other-altcoins-rise/\" \n",
    "# \"https://www.coindesk.com/markets/2021/11/29/market-wrap-bitcoin-bears-retreat-as-traders-buy-on-dips/\" \n",
    "# \"https://www.coindesk.com/tech/2021/11/30/ethereum-in-2022-what-is-money-in-the-metaverse/\" \n",
    "\n",
    "r = requests.get(url)\n",
    "r.status_code"
   ]
  },
  {
   "cell_type": "code",
   "execution_count": 6,
   "id": "5bf783e1",
   "metadata": {
    "scrolled": true
   },
   "outputs": [
    {
     "name": "stdout",
     "output_type": "stream",
     "text": [
      "title: \n",
      "Market Wrap: Bitcoin Underperforms as Ether and Other Altcoins Rise\n",
      "\n",
      "article: \n",
      "Bitcoin was roughly flat on Tuesday while alternative cryptocurrencies such as ether and Solana’s SOL token were up about 5% over the past 24 hours. LUNA, the native token of the Terra blockchain, rallied about 13% as traders chased incentive programs.Overall, trading conditions were choppy across global markets after the U.S. Federal Reserve Chair Jerome Powell suggested that monetary policy could tighten faster than expected – potentially a negative for speculative assets, including cryptocurrencies and equities.Despite short-term price swings, some analysts remain bullish on bitcoin.“As BTC is looking good to close November below the expected target of $60,000, investors are optimistic that the cryptocurrency will repeat its historic trend of ending the year on a stellar bullish note,” Nikita Rudenia, co-founder of asset management firm 8848 Invest, wrote in an email to CoinDesk. Rudenia has a $70,000 BTC price target by the end of this year.Other analysts pointed to bearish bitcoin options activity as a point of concern. “Puts are getting more expensive as market participants turn their focus towards hedging spot [positions] or speculating on further downside. In a recent tweet, Genesis Volatility themselves noted a large amount of short-term put purchases,” Delphi Digital wrote in a Tuesday blog post.Bitcoin’s market capitalization relative to the total crypto market capitalization, or dominance ratio, has declined about 10% over the past two months to the lowest level since September. The decline in BTC’s dominance reflects the recent outperformance of alternative cryptocurrencies (altcoins).Some analysts view the rotation from bitcoin to altcoins as an indicator of greater appetite for risk among investors.Ether, the world’s second-largest cryptocurrency by market capitalization, was approaching $4,800, near its all-time high, and was up about 5% over the past 24 hours. BTC was roughly flat over the same period. Technical indicators suggest further upside is likely for ether relative to bitcoin.The chart below shows the ETH/BTC ratio, which is attempting to break above a five-month trading range. Two consecutive daily closes above 0.080 could yield further upside in ETH/BTC.Most digital assets in the CoinDesk 20 ended the day higher.Notable winners as of 21:00 UTC (4:00 p.m. ET):Notable losers:\n"
     ]
    }
   ],
   "source": [
    "soup = BeautifulSoup(r.content, features='html.parser')\n",
    "\n",
    "title = soup.find('div', class_='at-headline').text\n",
    "paragraphs = soup.findAll('div',class_='at-text')\n",
    "article = ''.join([p.text for p in paragraphs])\n",
    "\n",
    "print(f\"title: \\n{title}\")\n",
    "print()\n",
    "print(f\"article: \\n{article}\")"
   ]
  },
  {
   "cell_type": "markdown",
   "id": "c6346159",
   "metadata": {},
   "source": [
    "# Initialize Modzy API Client"
   ]
  },
  {
   "cell_type": "code",
   "execution_count": null,
   "id": "4845aaac",
   "metadata": {},
   "outputs": [],
   "source": [
    "# create modzy client\n",
    "client = ApiClient(base_url=\"https://app.modzy.com/api\", api_key=API_KEY)"
   ]
  },
  {
   "cell_type": "markdown",
   "id": "0897e5a7",
   "metadata": {},
   "source": [
    "# Submit Text Summarization Job"
   ]
  },
  {
   "cell_type": "code",
   "execution_count": null,
   "id": "00e01a88",
   "metadata": {},
   "outputs": [],
   "source": [
    "sources = {}\n",
    "\n",
    "# Add any number of inputs\n",
    "sources[\"input_article\"] = {\n",
    "    \"input.txt\": article,\n",
    "}\n",
    "\n",
    "# submit the job\n",
    "print(\"running text summarization job...\")\n",
    "job = client.jobs.submit_text(\"rs2qqwbjwb\", \"0.0.2\", sources)\n",
    "print(f\"job: {job}\")\n",
    "\n",
    "# result = client.results.block_until_complete(job, timeout=None)\n",
    "# print(\"running text summarization job...DONE\")"
   ]
  },
  {
   "cell_type": "code",
   "execution_count": null,
   "id": "00521547",
   "metadata": {},
   "outputs": [],
   "source": [
    "result = client.results.get(job.job_identifier)\n",
    "result"
   ]
  },
  {
   "cell_type": "code",
   "execution_count": null,
   "id": "31720c07",
   "metadata": {},
   "outputs": [],
   "source": [
    "summary = result.get_first_outputs()['results.json']['summary']\n",
    "summary"
   ]
  },
  {
   "cell_type": "markdown",
   "id": "e7f2bf53",
   "metadata": {},
   "source": [
    "# Submit Text to Speech Job\n"
   ]
  },
  {
   "cell_type": "code",
   "execution_count": null,
   "id": "205485f1",
   "metadata": {
    "scrolled": true
   },
   "outputs": [],
   "source": [
    "sources = {}\n",
    "\n",
    "# sample_text = 'Analysts view the rotation from Bitcoin to altcoins as an indicator of greater appetite for risk.'\n",
    "\n",
    "#Add any number of inputs\n",
    "sources[\"summary\"] = {\n",
    "    \"input.txt\": summary,\n",
    "}\n",
    "\n",
    "# submit the job\n",
    "print(\"running text-to-speech job...\")\n",
    "job = client.jobs.submit_text(\"uvdncymn6q\", \"0.0.2\", sources)\n",
    "print(f\"job: {job}\")\n",
    "\n",
    "\n",
    "# speech = client.results.block_until_complete(job, timeout=None)\n",
    "# print(\"running text-to-speech job...DONE\")"
   ]
  },
  {
   "cell_type": "code",
   "execution_count": null,
   "id": "769915d4",
   "metadata": {},
   "outputs": [],
   "source": [
    "result = client.results.get(job.job_identifier)\n",
    "result"
   ]
  },
  {
   "cell_type": "code",
   "execution_count": null,
   "id": "44653374",
   "metadata": {},
   "outputs": [],
   "source": [
    "# get result .wav file from modzy\n",
    "wav_url = speech.get_first_outputs()['results.wav']\n",
    "\n",
    "headers = {\n",
    "    'Accept': 'application/json', \n",
    "    'Authorization': f'ApiKey {API_KEY}'\n",
    "}\n",
    "\n",
    "wav =  requests.get(wav_url, headers=headers)\n",
    "wav"
   ]
  },
  {
   "cell_type": "markdown",
   "id": "ec0a73d1",
   "metadata": {},
   "source": [
    "# Play audio summary"
   ]
  },
  {
   "cell_type": "code",
   "execution_count": null,
   "id": "d2da4d77",
   "metadata": {},
   "outputs": [],
   "source": [
    "# play audio\n",
    "IPython.display.Audio(wav.content)"
   ]
  },
  {
   "cell_type": "code",
   "execution_count": null,
   "id": "2a85e287",
   "metadata": {},
   "outputs": [],
   "source": [
    "# save audio file            \n",
    "with open('audio.wav', 'wb') as f:\n",
    "     f.write(wav.content)"
   ]
  },
  {
   "cell_type": "code",
   "execution_count": null,
   "id": "e58557cb",
   "metadata": {},
   "outputs": [],
   "source": [
    "# with requests.get(wav_url, headers=headers, auth=None, stream=True) as r:\n",
    "#     with open('audio.wav', 'wb') as f:\n",
    "#         for chunk in r.iter_content(chunk_size=8192):\n",
    "#             f.write(chunk)\n",
    "\n",
    "# IPython.display.display(IPython.display.Audio('audio.wav'))\n",
    "# IPython.display.display(IPython.display.Audio(r.content))\n",
    "\n",
    "# with open('market.txt', 'r', encoding='utf8') as file:\n",
    "#     input_txt = file.read().replace('\\n', '')\n",
    "# print(input_txt)"
   ]
  }
 ],
 "metadata": {
  "kernelspec": {
   "display_name": "Python 3 (ipykernel)",
   "language": "python",
   "name": "python3"
  },
  "language_info": {
   "codemirror_mode": {
    "name": "ipython",
    "version": 3
   },
   "file_extension": ".py",
   "mimetype": "text/x-python",
   "name": "python",
   "nbconvert_exporter": "python",
   "pygments_lexer": "ipython3",
   "version": "3.9.6"
  }
 },
 "nbformat": 4,
 "nbformat_minor": 5
}
